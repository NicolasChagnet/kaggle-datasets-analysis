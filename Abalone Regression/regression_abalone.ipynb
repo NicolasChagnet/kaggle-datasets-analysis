{
 "cells": [
  {
   "cell_type": "markdown",
   "metadata": {},
   "source": [
    "# Regression using the Abalone Dataset\n",
    "\n",
    "This notebook provides and analysis and results for [this](https://www.kaggle.com/competitions/playground-series-s4e4/overview) Kaggle competition."
   ]
  },
  {
   "cell_type": "code",
   "execution_count": 1,
   "metadata": {},
   "outputs": [],
   "source": [
    "import pandas as pd\n",
    "import numpy as np\n",
    "from matplotlib import pyplot as plt\n",
    "import scipy.stats as stats\n",
    "import seaborn as sns"
   ]
  },
  {
   "cell_type": "code",
   "execution_count": 2,
   "metadata": {},
   "outputs": [],
   "source": [
    "# Loading the data\n",
    "train_df = pd.read_csv(\"data/train.csv\")\n",
    "test_df = pd.read_csv(\"data/test.csv\")"
   ]
  },
  {
   "cell_type": "markdown",
   "metadata": {},
   "source": [
    "## Data cleanup"
   ]
  },
  {
   "cell_type": "markdown",
   "metadata": {},
   "source": [
    "This dataset has 10 features and the goal is to predict the `Rings` number. The `id` column is not useful so we will drop it in our training datasets as it maps directly to the index."
   ]
  },
  {
   "cell_type": "code",
   "execution_count": 3,
   "metadata": {},
   "outputs": [
    {
     "data": {
      "text/html": [
       "<div>\n",
       "<style scoped>\n",
       "    .dataframe tbody tr th:only-of-type {\n",
       "        vertical-align: middle;\n",
       "    }\n",
       "\n",
       "    .dataframe tbody tr th {\n",
       "        vertical-align: top;\n",
       "    }\n",
       "\n",
       "    .dataframe thead th {\n",
       "        text-align: right;\n",
       "    }\n",
       "</style>\n",
       "<table border=\"1\" class=\"dataframe\">\n",
       "  <thead>\n",
       "    <tr style=\"text-align: right;\">\n",
       "      <th></th>\n",
       "      <th>id</th>\n",
       "      <th>Sex</th>\n",
       "      <th>Length</th>\n",
       "      <th>Diameter</th>\n",
       "      <th>Height</th>\n",
       "      <th>Whole weight</th>\n",
       "      <th>Whole weight.1</th>\n",
       "      <th>Whole weight.2</th>\n",
       "      <th>Shell weight</th>\n",
       "      <th>Rings</th>\n",
       "    </tr>\n",
       "  </thead>\n",
       "  <tbody>\n",
       "    <tr>\n",
       "      <th>0</th>\n",
       "      <td>0</td>\n",
       "      <td>F</td>\n",
       "      <td>0.550</td>\n",
       "      <td>0.430</td>\n",
       "      <td>0.150</td>\n",
       "      <td>0.7715</td>\n",
       "      <td>0.3285</td>\n",
       "      <td>0.1465</td>\n",
       "      <td>0.2400</td>\n",
       "      <td>11</td>\n",
       "    </tr>\n",
       "    <tr>\n",
       "      <th>1</th>\n",
       "      <td>1</td>\n",
       "      <td>F</td>\n",
       "      <td>0.630</td>\n",
       "      <td>0.490</td>\n",
       "      <td>0.145</td>\n",
       "      <td>1.1300</td>\n",
       "      <td>0.4580</td>\n",
       "      <td>0.2765</td>\n",
       "      <td>0.3200</td>\n",
       "      <td>11</td>\n",
       "    </tr>\n",
       "    <tr>\n",
       "      <th>2</th>\n",
       "      <td>2</td>\n",
       "      <td>I</td>\n",
       "      <td>0.160</td>\n",
       "      <td>0.110</td>\n",
       "      <td>0.025</td>\n",
       "      <td>0.0210</td>\n",
       "      <td>0.0055</td>\n",
       "      <td>0.0030</td>\n",
       "      <td>0.0050</td>\n",
       "      <td>6</td>\n",
       "    </tr>\n",
       "    <tr>\n",
       "      <th>3</th>\n",
       "      <td>3</td>\n",
       "      <td>M</td>\n",
       "      <td>0.595</td>\n",
       "      <td>0.475</td>\n",
       "      <td>0.150</td>\n",
       "      <td>0.9145</td>\n",
       "      <td>0.3755</td>\n",
       "      <td>0.2055</td>\n",
       "      <td>0.2500</td>\n",
       "      <td>10</td>\n",
       "    </tr>\n",
       "    <tr>\n",
       "      <th>4</th>\n",
       "      <td>4</td>\n",
       "      <td>I</td>\n",
       "      <td>0.555</td>\n",
       "      <td>0.425</td>\n",
       "      <td>0.130</td>\n",
       "      <td>0.7820</td>\n",
       "      <td>0.3695</td>\n",
       "      <td>0.1600</td>\n",
       "      <td>0.1975</td>\n",
       "      <td>9</td>\n",
       "    </tr>\n",
       "  </tbody>\n",
       "</table>\n",
       "</div>"
      ],
      "text/plain": [
       "   id Sex  Length  Diameter  Height  Whole weight  Whole weight.1  \\\n",
       "0   0   F   0.550     0.430   0.150        0.7715          0.3285   \n",
       "1   1   F   0.630     0.490   0.145        1.1300          0.4580   \n",
       "2   2   I   0.160     0.110   0.025        0.0210          0.0055   \n",
       "3   3   M   0.595     0.475   0.150        0.9145          0.3755   \n",
       "4   4   I   0.555     0.425   0.130        0.7820          0.3695   \n",
       "\n",
       "   Whole weight.2  Shell weight  Rings  \n",
       "0          0.1465        0.2400     11  \n",
       "1          0.2765        0.3200     11  \n",
       "2          0.0030        0.0050      6  \n",
       "3          0.2055        0.2500     10  \n",
       "4          0.1600        0.1975      9  "
      ]
     },
     "execution_count": 3,
     "metadata": {},
     "output_type": "execute_result"
    }
   ],
   "source": [
    "train_df.head()"
   ]
  },
  {
   "cell_type": "markdown",
   "metadata": {},
   "source": [
    "There are no missing features in this dataset so the cleanup is relatively simple. All we have left to do is label the sex of the abalone has an integer."
   ]
  },
  {
   "cell_type": "code",
   "execution_count": 4,
   "metadata": {},
   "outputs": [
    {
     "data": {
      "text/plain": [
       "id                0\n",
       "Sex               0\n",
       "Length            0\n",
       "Diameter          0\n",
       "Height            0\n",
       "Whole weight      0\n",
       "Whole weight.1    0\n",
       "Whole weight.2    0\n",
       "Shell weight      0\n",
       "Rings             0\n",
       "dtype: int64"
      ]
     },
     "execution_count": 4,
     "metadata": {},
     "output_type": "execute_result"
    }
   ],
   "source": [
    "train_df.isnull().sum()"
   ]
  },
  {
   "cell_type": "code",
   "execution_count": 5,
   "metadata": {},
   "outputs": [],
   "source": [
    "def cleanup_df(df):\n",
    "    sex_num = df[\"Sex\"].map({\"F\": 1, \"M\": -1, \"I\": 0})\n",
    "    sex_num = sex_num.rename(\"Sex_num\")\n",
    "    return pd.concat([df.drop([\"Sex\", \"id\"], axis=1), sex_num], axis=1)\n",
    "\n",
    "\n",
    "train_clean_df = cleanup_df(train_df)\n",
    "test_clean_df = cleanup_df(test_df)"
   ]
  },
  {
   "cell_type": "code",
   "execution_count": 21,
   "metadata": {},
   "outputs": [],
   "source": [
    "# Function to convert the predicted array into a submission\n",
    "def package_result(df, y_out):\n",
    "    df_out = pd.Series(y_out)\n",
    "    df_out.index = df[\"id\"]\n",
    "    df_out.index.name = \"id\"\n",
    "    df_out = df_out.rename(\"Rings\")\n",
    "    return df_out"
   ]
  },
  {
   "cell_type": "markdown",
   "metadata": {},
   "source": [
    "## Prediction"
   ]
  },
  {
   "cell_type": "code",
   "execution_count": 10,
   "metadata": {},
   "outputs": [],
   "source": [
    "from sklearn.metrics import root_mean_squared_log_error, make_scorer\n",
    "from sklearn.model_selection import train_test_split, ValidationCurveDisplay, validation_curve\n",
    "\n",
    "rmsle_scorer = make_scorer(root_mean_squared_log_error, greater_is_better=False)\n",
    "\n",
    "X_train = train_clean_df.drop(\"Rings\", axis=1)\n",
    "y_train = train_clean_df[\"Rings\"]\n",
    "\n",
    "X_test = test_clean_df\n",
    "\n",
    "X_train_1, X_train_2, y_train_1, y_train_2 = train_test_split(X_train, y_train, train_size=0.3, random_state=42)"
   ]
  },
  {
   "cell_type": "markdown",
   "metadata": {},
   "source": [
    "We start with a naive Logistic Regression "
   ]
  },
  {
   "cell_type": "code",
   "execution_count": 11,
   "metadata": {},
   "outputs": [
    {
     "name": "stdout",
     "output_type": "stream",
     "text": [
      "0.1760267009568668\n"
     ]
    }
   ],
   "source": [
    "from sklearn.linear_model import LogisticRegression\n",
    "\n",
    "model_lr = LogisticRegression(C=100, max_iter=2_000)\n",
    "model_lr.fit(X_train_1, y_train_1)\n",
    "y_predict_2 = model_lr.predict(X_train_2)\n",
    "\n",
    "print(root_mean_squared_log_error(y_train_2, y_predict_2))"
   ]
  },
  {
   "cell_type": "markdown",
   "metadata": {},
   "source": [
    "As expected the Random Forest Regressor works better"
   ]
  },
  {
   "cell_type": "code",
   "execution_count": 12,
   "metadata": {},
   "outputs": [
    {
     "name": "stdout",
     "output_type": "stream",
     "text": [
      "0.15646327628878975\n"
     ]
    }
   ],
   "source": [
    "from sklearn.ensemble import RandomForestRegressor\n",
    "\n",
    "model_rfr = RandomForestRegressor(n_jobs=-1)\n",
    "model_rfr.fit(X_train_1, y_train_1)\n",
    "y_predict_2 = model_rfr.predict(X_train_2)\n",
    "\n",
    "print(root_mean_squared_log_error(y_train_2, y_predict_2))"
   ]
  },
  {
   "cell_type": "code",
   "execution_count": 16,
   "metadata": {},
   "outputs": [
    {
     "name": "stdout",
     "output_type": "stream",
     "text": [
      "[0]\tvalidation_0-rmsle:0.27054\n",
      "[1]\tvalidation_0-rmsle:0.25440\n"
     ]
    },
    {
     "name": "stdout",
     "output_type": "stream",
     "text": [
      "[2]\tvalidation_0-rmsle:0.24028\n",
      "[3]\tvalidation_0-rmsle:0.22803\n",
      "[4]\tvalidation_0-rmsle:0.21737\n",
      "[5]\tvalidation_0-rmsle:0.20810\n",
      "[6]\tvalidation_0-rmsle:0.19988\n",
      "[7]\tvalidation_0-rmsle:0.19289\n",
      "[8]\tvalidation_0-rmsle:0.18695\n",
      "[9]\tvalidation_0-rmsle:0.18179\n",
      "[10]\tvalidation_0-rmsle:0.17741\n",
      "[11]\tvalidation_0-rmsle:0.17370\n",
      "[12]\tvalidation_0-rmsle:0.17051\n",
      "[13]\tvalidation_0-rmsle:0.16784\n",
      "[14]\tvalidation_0-rmsle:0.16546\n",
      "[15]\tvalidation_0-rmsle:0.16359\n",
      "[16]\tvalidation_0-rmsle:0.16199\n",
      "[17]\tvalidation_0-rmsle:0.16056\n",
      "[18]\tvalidation_0-rmsle:0.15940\n",
      "[19]\tvalidation_0-rmsle:0.15846\n",
      "[20]\tvalidation_0-rmsle:0.15763\n",
      "[21]\tvalidation_0-rmsle:0.15696\n",
      "[22]\tvalidation_0-rmsle:0.15634\n",
      "[23]\tvalidation_0-rmsle:0.15587\n",
      "[24]\tvalidation_0-rmsle:0.15543\n",
      "[25]\tvalidation_0-rmsle:0.15508\n",
      "[26]\tvalidation_0-rmsle:0.15479\n",
      "[27]\tvalidation_0-rmsle:0.15452\n",
      "[28]\tvalidation_0-rmsle:0.15425\n",
      "[29]\tvalidation_0-rmsle:0.15401\n",
      "[30]\tvalidation_0-rmsle:0.15385\n",
      "[31]\tvalidation_0-rmsle:0.15369\n",
      "[32]\tvalidation_0-rmsle:0.15358\n",
      "[33]\tvalidation_0-rmsle:0.15349\n",
      "[34]\tvalidation_0-rmsle:0.15339\n",
      "[35]\tvalidation_0-rmsle:0.15332\n",
      "[36]\tvalidation_0-rmsle:0.15319\n",
      "[37]\tvalidation_0-rmsle:0.15316\n",
      "[38]\tvalidation_0-rmsle:0.15308\n",
      "[39]\tvalidation_0-rmsle:0.15301\n",
      "[40]\tvalidation_0-rmsle:0.15296\n",
      "[41]\tvalidation_0-rmsle:0.15292\n",
      "[42]\tvalidation_0-rmsle:0.15289\n",
      "[43]\tvalidation_0-rmsle:0.15285\n",
      "[44]\tvalidation_0-rmsle:0.15283\n",
      "[45]\tvalidation_0-rmsle:0.15280\n",
      "[46]\tvalidation_0-rmsle:0.15278\n",
      "[47]\tvalidation_0-rmsle:0.15277\n",
      "[48]\tvalidation_0-rmsle:0.15273\n",
      "[49]\tvalidation_0-rmsle:0.15269\n",
      "[50]\tvalidation_0-rmsle:0.15267\n",
      "[51]\tvalidation_0-rmsle:0.15266\n",
      "[52]\tvalidation_0-rmsle:0.15265\n",
      "[53]\tvalidation_0-rmsle:0.15265\n",
      "[54]\tvalidation_0-rmsle:0.15265\n",
      "[55]\tvalidation_0-rmsle:0.15264\n",
      "[56]\tvalidation_0-rmsle:0.15263\n",
      "[57]\tvalidation_0-rmsle:0.15262\n",
      "[58]\tvalidation_0-rmsle:0.15261\n",
      "[59]\tvalidation_0-rmsle:0.15257\n",
      "[60]\tvalidation_0-rmsle:0.15256\n",
      "[61]\tvalidation_0-rmsle:0.15256\n",
      "[62]\tvalidation_0-rmsle:0.15256\n",
      "[63]\tvalidation_0-rmsle:0.15255\n",
      "[64]\tvalidation_0-rmsle:0.15254\n",
      "[65]\tvalidation_0-rmsle:0.15254\n",
      "[66]\tvalidation_0-rmsle:0.15254\n",
      "[67]\tvalidation_0-rmsle:0.15254\n",
      "[68]\tvalidation_0-rmsle:0.15253\n",
      "[69]\tvalidation_0-rmsle:0.15254\n",
      "[70]\tvalidation_0-rmsle:0.15252\n",
      "[71]\tvalidation_0-rmsle:0.15252\n",
      "[72]\tvalidation_0-rmsle:0.15252\n",
      "[73]\tvalidation_0-rmsle:0.15251\n",
      "[74]\tvalidation_0-rmsle:0.15250\n",
      "[75]\tvalidation_0-rmsle:0.15250\n",
      "[76]\tvalidation_0-rmsle:0.15250\n",
      "[77]\tvalidation_0-rmsle:0.15250\n",
      "[78]\tvalidation_0-rmsle:0.15251\n",
      "[79]\tvalidation_0-rmsle:0.15251\n",
      "[80]\tvalidation_0-rmsle:0.15250\n",
      "[81]\tvalidation_0-rmsle:0.15250\n",
      "0.15249626407558867\n"
     ]
    }
   ],
   "source": [
    "from xgboost import XGBRegressor\n",
    "\n",
    "model_xgb = XGBRegressor(learning_rate=0.1, n_estimators=1000, early_stopping_rounds=5, eval_metric=\"rmsle\")\n",
    "\n",
    "model_xgb.fit(X_train_1, y_train_1, eval_set=[(X_train_2, y_train_2)])\n",
    "\n",
    "y_predict_xgb = model_xgb.predict(X_train_2)\n",
    "\n",
    "print(root_mean_squared_log_error(y_train_2, y_predict_xgb))"
   ]
  },
  {
   "cell_type": "code",
   "execution_count": 22,
   "metadata": {},
   "outputs": [],
   "source": [
    "y_predict_xgb_out = model_xgb.predict(X_test)\n",
    "y_predict_xgb_out_df = package_result(test_df, y_predict_xgb_out)\n",
    "y_predict_xgb_out_df.round(0).astype(\"int\").to_csv(\"submissions/xgb_naive_guess.csv\")"
   ]
  },
  {
   "cell_type": "code",
   "execution_count": null,
   "metadata": {},
   "outputs": [],
   "source": []
  }
 ],
 "metadata": {
  "kernelspec": {
   "display_name": "kaggle_py",
   "language": "python",
   "name": "python3"
  },
  "language_info": {
   "codemirror_mode": {
    "name": "ipython",
    "version": 3
   },
   "file_extension": ".py",
   "mimetype": "text/x-python",
   "name": "python",
   "nbconvert_exporter": "python",
   "pygments_lexer": "ipython3",
   "version": "3.10.12"
  }
 },
 "nbformat": 4,
 "nbformat_minor": 2
}
